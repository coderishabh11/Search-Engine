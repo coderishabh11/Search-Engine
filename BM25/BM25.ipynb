{
 "cells": [
  {
   "cell_type": "markdown",
   "id": "fd74dbbc",
   "metadata": {},
   "source": [
    "# Search Engine using BM25"
   ]
  },
  {
   "cell_type": "code",
   "execution_count": 1,
   "id": "3c36c10a",
   "metadata": {},
   "outputs": [
    {
     "name": "stdout",
     "output_type": "stream",
     "text": [
      "Requirement already satisfied: numpy in c:\\users\\dell\\appdata\\local\\programs\\python\\python310\\lib\\site-packages (1.24.3)\n",
      "Requirement already satisfied: pandas in c:\\users\\dell\\appdata\\local\\programs\\python\\python310\\lib\\site-packages (2.0.3)\n",
      "Requirement already satisfied: rank_bm25 in c:\\users\\dell\\appdata\\local\\programs\\python\\python310\\lib\\site-packages (0.2.2)\n",
      "Requirement already satisfied: nltk in c:\\users\\dell\\appdata\\local\\programs\\python\\python310\\lib\\site-packages (3.8.1)\n",
      "Requirement already satisfied: tzdata>=2022.1 in c:\\users\\dell\\appdata\\local\\programs\\python\\python310\\lib\\site-packages (from pandas) (2023.3)\n",
      "Requirement already satisfied: python-dateutil>=2.8.2 in c:\\users\\dell\\appdata\\local\\programs\\python\\python310\\lib\\site-packages (from pandas) (2.8.2)\n",
      "Requirement already satisfied: pytz>=2020.1 in c:\\users\\dell\\appdata\\local\\programs\\python\\python310\\lib\\site-packages (from pandas) (2023.3)\n",
      "Requirement already satisfied: joblib in c:\\users\\dell\\appdata\\local\\programs\\python\\python310\\lib\\site-packages (from nltk) (1.3.1)\n",
      "Requirement already satisfied: tqdm in c:\\users\\dell\\appdata\\local\\programs\\python\\python310\\lib\\site-packages (from nltk) (4.65.0)\n",
      "Requirement already satisfied: click in c:\\users\\dell\\appdata\\local\\programs\\python\\python310\\lib\\site-packages (from nltk) (8.1.6)\n",
      "Requirement already satisfied: regex>=2021.8.3 in c:\\users\\dell\\appdata\\local\\programs\\python\\python310\\lib\\site-packages (from nltk) (2023.6.3)\n",
      "Requirement already satisfied: six>=1.5 in c:\\users\\dell\\appdata\\local\\programs\\python\\python310\\lib\\site-packages (from python-dateutil>=2.8.2->pandas) (1.16.0)\n",
      "Requirement already satisfied: colorama in c:\\users\\dell\\appdata\\local\\programs\\python\\python310\\lib\\site-packages (from click->nltk) (0.4.6)\n"
     ]
    },
    {
     "name": "stderr",
     "output_type": "stream",
     "text": [
      "WARNING: You are using pip version 21.2.4; however, version 23.2.1 is available.\n",
      "You should consider upgrading via the 'C:\\Users\\dell\\AppData\\Local\\Programs\\Python\\Python310\\python.exe -m pip install --upgrade pip' command.\n"
     ]
    }
   ],
   "source": [
    "# Install required packages\n",
    "!pip install numpy pandas rank_bm25 nltk"
   ]
  },
  {
   "cell_type": "code",
   "execution_count": 2,
   "id": "b1a51452",
   "metadata": {},
   "outputs": [
    {
     "name": "stderr",
     "output_type": "stream",
     "text": [
      "[nltk_data] Downloading package punkt to\n",
      "[nltk_data]     C:\\Users\\dell\\AppData\\Roaming\\nltk_data...\n",
      "[nltk_data]   Package punkt is already up-to-date!\n",
      "[nltk_data] Downloading package stopwords to\n",
      "[nltk_data]     C:\\Users\\dell\\AppData\\Roaming\\nltk_data...\n",
      "[nltk_data]   Package stopwords is already up-to-date!\n"
     ]
    }
   ],
   "source": [
    "# Importing Libraries\n",
    "import pandas as pd\n",
    "import numpy as np\n",
    "import nltk\n",
    "from nltk.tokenize import word_tokenize\n",
    "from nltk.corpus import stopwords\n",
    "from nltk.stem import SnowballStemmer\n",
    "nltk.download('punkt')\n",
    "nltk.download('stopwords')\n",
    "from rank_bm25 import BM25Okapi"
   ]
  },
  {
   "cell_type": "markdown",
   "id": "5a5d6423",
   "metadata": {},
   "source": [
    "## Dataset\n",
    "  The dataset includes startup names, descriptions, locations, and pictures. The raw parsed data can be accessed via this https://huggingface.co/datasets/hugginglearners/netflix-shows/tree/main."
   ]
  },
  {
   "cell_type": "code",
   "execution_count": 4,
   "id": "f4351bfa",
   "metadata": {},
   "outputs": [],
   "source": [
    "# Load the dataset from CSV\n",
    "csv_path = '../netflix_titles.csv'\n",
    "df = pd.read_csv(csv_path)"
   ]
  },
  {
   "cell_type": "code",
   "execution_count": 5,
   "id": "d52aa351",
   "metadata": {},
   "outputs": [
    {
     "data": {
      "text/html": [
       "<div>\n",
       "<style scoped>\n",
       "    .dataframe tbody tr th:only-of-type {\n",
       "        vertical-align: middle;\n",
       "    }\n",
       "\n",
       "    .dataframe tbody tr th {\n",
       "        vertical-align: top;\n",
       "    }\n",
       "\n",
       "    .dataframe thead th {\n",
       "        text-align: right;\n",
       "    }\n",
       "</style>\n",
       "<table border=\"1\" class=\"dataframe\">\n",
       "  <thead>\n",
       "    <tr style=\"text-align: right;\">\n",
       "      <th></th>\n",
       "      <th>show_id</th>\n",
       "      <th>type</th>\n",
       "      <th>title</th>\n",
       "      <th>director</th>\n",
       "      <th>cast</th>\n",
       "      <th>country</th>\n",
       "      <th>date_added</th>\n",
       "      <th>release_year</th>\n",
       "      <th>rating</th>\n",
       "      <th>duration</th>\n",
       "      <th>listed_in</th>\n",
       "      <th>description</th>\n",
       "    </tr>\n",
       "  </thead>\n",
       "  <tbody>\n",
       "    <tr>\n",
       "      <th>0</th>\n",
       "      <td>s1</td>\n",
       "      <td>Movie</td>\n",
       "      <td>Dick Johnson Is Dead</td>\n",
       "      <td>Kirsten Johnson</td>\n",
       "      <td>NaN</td>\n",
       "      <td>United States</td>\n",
       "      <td>September 25, 2021</td>\n",
       "      <td>2020</td>\n",
       "      <td>PG-13</td>\n",
       "      <td>90 min</td>\n",
       "      <td>Documentaries</td>\n",
       "      <td>As her father nears the end of his life, filmm...</td>\n",
       "    </tr>\n",
       "  </tbody>\n",
       "</table>\n",
       "</div>"
      ],
      "text/plain": [
       "  show_id   type                 title         director cast        country  \\\n",
       "0      s1  Movie  Dick Johnson Is Dead  Kirsten Johnson  NaN  United States   \n",
       "\n",
       "           date_added  release_year rating duration      listed_in  \\\n",
       "0  September 25, 2021          2020  PG-13   90 min  Documentaries   \n",
       "\n",
       "                                         description  \n",
       "0  As her father nears the end of his life, filmm...  "
      ]
     },
     "execution_count": 5,
     "metadata": {},
     "output_type": "execute_result"
    }
   ],
   "source": [
    "df.head(1)"
   ]
  },
  {
   "cell_type": "markdown",
   "id": "7bccf914",
   "metadata": {},
   "source": [
    "## Preprocess Data :\n",
    "\n",
    "In this step, we will preprocess the data to ensure data quality, consistency, and suitability for further processing, improving analysis and modeling accuracy.\n",
    "\n",
    "   -  Handling Missing Values:\n",
    "       - For numeric columns, fill missing values with the median.\n",
    "       - For categorical columns, fill missing values with the most frequent value.\n",
    "    \n",
    "   - Drop Duplicates:\n",
    "       - Remove duplicate rows from the dataset if any.\n",
    "    \n",
    "   - Convert Text to Lowercase:\n",
    "       - Convert all text data to lowercase for uniformity.\n",
    "\n",
    "   - Tokenization and Stopword Removal:\n",
    "       - Tokenize text data using NLTK's word_tokenize.\n",
    "       - Remove English stopwords using NLTK's set of stopwords.\n",
    "    \n",
    "   - Stemming:\n",
    "       - Apply Snowball Stemming for English language to reduce words to their root form."
   ]
  },
  {
   "cell_type": "code",
   "execution_count": 6,
   "id": "6a04ec9a",
   "metadata": {},
   "outputs": [],
   "source": [
    "def preprocess_data(df):\n",
    "    # Drop duplicates, if any\n",
    "    df = df.drop_duplicates()\n",
    "\n",
    "    # Handling missing values\n",
    "    # For numeric columns, fill missing values with median\n",
    "    numeric_cols = df.select_dtypes(include='number').columns\n",
    "    for col in numeric_cols:\n",
    "        df[col].fillna(df[col].median(), inplace=True)\n",
    "\n",
    "    # For categorical columns, fill missing values with most frequent value\n",
    "    categorical_cols = df.select_dtypes(include='object').columns\n",
    "    for col in categorical_cols:\n",
    "        df[col].fillna(df[col].mode()[0], inplace=True)\n",
    "\n",
    "    # Convert all text data to lowercase\n",
    "    df = df.applymap(lambda x: x.lower() if isinstance(x, str) else '')\n",
    "\n",
    "    # Prepare NLTK for English Language Preprocessing\n",
    "    eng_stopwords = set(stopwords.words('english'))  # Set of English stopwords\n",
    "    stemmer = SnowballStemmer('english')  # Snowball Stemmer for English language\n",
    "\n",
    "    # Preprocess text in categorical columns using NLTK\n",
    "    for col in categorical_cols:\n",
    "        if df[col].dtype == 'object':\n",
    "            df[col] = df[col].apply(lambda x: ' '.join([stemmer.stem(word) for word in word_tokenize(x) if word.lower() not in eng_stopwords]))\n",
    "            \n",
    "    return df\n",
    "\n",
    "\n",
    "df_cleaned = preprocess_data(df)"
   ]
  },
  {
   "cell_type": "code",
   "execution_count": 7,
   "id": "0635bfe0",
   "metadata": {},
   "outputs": [],
   "source": [
    "def preprocess_query(input_string):\n",
    "    # Convert the input string to lowercase\n",
    "    input_string = input_string.lower()\n",
    "\n",
    "    # Prepare NLTK for English Language Preprocessing\n",
    "    eng_stopwords = set(stopwords.words('english'))  # Set of English stopwords\n",
    "    stemmer = SnowballStemmer('english')  # Snowball Stemmer for Englsih language\n",
    "\n",
    "    # Tokenize the input string\n",
    "    words = word_tokenize(input_string)\n",
    "\n",
    "    # Remove English stopwords and apply stemming\n",
    "    preprocessed_words = [stemmer.stem(word) for word in words if word.lower() not in eng_stopwords]\n",
    "\n",
    "    # Combine the preprocessed words into a single string\n",
    "    preprocessed_string = ' '.join(preprocessed_words)\n",
    "\n",
    "    return preprocessed_string"
   ]
  },
  {
   "cell_type": "code",
   "execution_count": 8,
   "id": "868ba0c9",
   "metadata": {},
   "outputs": [
    {
     "data": {
      "text/html": [
       "<div>\n",
       "<style scoped>\n",
       "    .dataframe tbody tr th:only-of-type {\n",
       "        vertical-align: middle;\n",
       "    }\n",
       "\n",
       "    .dataframe tbody tr th {\n",
       "        vertical-align: top;\n",
       "    }\n",
       "\n",
       "    .dataframe thead th {\n",
       "        text-align: right;\n",
       "    }\n",
       "</style>\n",
       "<table border=\"1\" class=\"dataframe\">\n",
       "  <thead>\n",
       "    <tr style=\"text-align: right;\">\n",
       "      <th></th>\n",
       "      <th>show_id</th>\n",
       "      <th>type</th>\n",
       "      <th>title</th>\n",
       "      <th>director</th>\n",
       "      <th>cast</th>\n",
       "      <th>country</th>\n",
       "      <th>date_added</th>\n",
       "      <th>release_year</th>\n",
       "      <th>rating</th>\n",
       "      <th>duration</th>\n",
       "      <th>listed_in</th>\n",
       "      <th>description</th>\n",
       "    </tr>\n",
       "  </thead>\n",
       "  <tbody>\n",
       "    <tr>\n",
       "      <th>0</th>\n",
       "      <td>s1</td>\n",
       "      <td>movi</td>\n",
       "      <td>dick johnson dead</td>\n",
       "      <td>kirsten johnson</td>\n",
       "      <td>david attenborough</td>\n",
       "      <td>unit state</td>\n",
       "      <td>septemb 25 , 2021</td>\n",
       "      <td></td>\n",
       "      <td>pg-13</td>\n",
       "      <td>90 min</td>\n",
       "      <td>documentari</td>\n",
       "      <td>father near end life , filmmak kirsten johnson...</td>\n",
       "    </tr>\n",
       "  </tbody>\n",
       "</table>\n",
       "</div>"
      ],
      "text/plain": [
       "  show_id  type              title         director                cast  \\\n",
       "0      s1  movi  dick johnson dead  kirsten johnson  david attenborough   \n",
       "\n",
       "      country         date_added release_year rating duration    listed_in  \\\n",
       "0  unit state  septemb 25 , 2021               pg-13   90 min  documentari   \n",
       "\n",
       "                                         description  \n",
       "0  father near end life , filmmak kirsten johnson...  "
      ]
     },
     "execution_count": 8,
     "metadata": {},
     "output_type": "execute_result"
    }
   ],
   "source": [
    "df_cleaned.head(1)"
   ]
  },
  {
   "cell_type": "code",
   "execution_count": 9,
   "id": "ab85fea5",
   "metadata": {},
   "outputs": [],
   "source": [
    "# Define the search function using BM25Okapi\n",
    "def search(query, column_name, num_results=3):\n",
    "    # Preprocess the search query\n",
    "    search_tokens = preprocess_query(query).split(\" \")\n",
    "\n",
    "    # Create the tokenized corpus for the specified column\n",
    "    tokenized_corpus = [doc.split(\" \") for doc in df_cleaned[column_name]]\n",
    "\n",
    "    # Create BM25Okapi object for the specified column\n",
    "    bm25 = BM25Okapi(tokenized_corpus)\n",
    "\n",
    "    # Calculate BM25 scores\n",
    "    scores = bm25.get_scores(search_tokens)\n",
    "\n",
    "    # Get top indexes based on BM25 scores\n",
    "    top_indexes = np.argsort(scores)[::-1][:num_results]\n",
    "    return top_indexes"
   ]
  },
  {
   "cell_type": "code",
   "execution_count": 10,
   "id": "421a9afc",
   "metadata": {},
   "outputs": [],
   "source": [
    "query = 'fluffy animal'\n",
    "column_name = 'description'\n",
    "\n",
    "# Perform search using BM25Okapi\n",
    "search_results_indexes = search(query,column_name)"
   ]
  },
  {
   "cell_type": "code",
   "execution_count": 11,
   "id": "f9eda97d",
   "metadata": {},
   "outputs": [
    {
     "data": {
      "text/plain": [
       "array([5660, 4153, 8172], dtype=int64)"
      ]
     },
     "execution_count": 11,
     "metadata": {},
     "output_type": "execute_result"
    }
   ],
   "source": [
    "search_results_indexes"
   ]
  },
  {
   "cell_type": "code",
   "execution_count": 12,
   "id": "f75b1115",
   "metadata": {},
   "outputs": [
    {
     "name": "stdout",
     "output_type": "stream",
     "text": [
      "Search Results:\n",
      "\n",
      "Result 1:\n",
      "\tshow_id: s5661\n",
      "\ttype: Movie\n",
      "\ttitle: Gabriel lglesias: I’m Sorry For What I Said When I Was Hungry\n",
      "\tdirector: Manny Rodriguez\n",
      "\tcast: Gabriel Iglesias\n",
      "\tcountry: United States\n",
      "\tdate_added: December 20, 2016\n",
      "\trelease_year: 2016\n",
      "\trating: TV-14\n",
      "\tduration: 88 min\n",
      "\tlisted_in: Stand-Up Comedy\n",
      "\tdescription: Hawaiian-shirt enthusiast Gabriel \"Fluffy\" Iglesias finds the laughs in racist gift baskets, Prius-driving cops and all-female taco trucks.\n",
      "\n",
      "Result 2:\n",
      "\tshow_id: s4154\n",
      "\ttype: Movie\n",
      "\ttitle: Gabriel \"Fluffy\" Iglesias: One Show Fits All\n",
      "\tdirector: Manny Rodriguez\n",
      "\tcast: Gabriel Iglesias\n",
      "\tcountry: nan\n",
      "\tdate_added: January 29, 2019\n",
      "\trelease_year: 2019\n",
      "\trating: TV-14\n",
      "\tduration: 91 min\n",
      "\tlisted_in: Stand-Up Comedy\n",
      "\tdescription: Gabriel \"Fluffy\" Iglesias discusses his teenage son and encounters with Snoop Dogg, Chris Rock and Vicente Fernández in this stand-up special for 2019.\n",
      "\n",
      "Result 3:\n",
      "\tshow_id: s8173\n",
      "\ttype: TV Show\n",
      "\ttitle: Th Eena Meena Deeka Chase Comedy Show\n",
      "\tdirector: Dheeraj Berry\n",
      "\tcast: Sanjay Keni, Priya Raina\n",
      "\tcountry: India\n",
      "\tdate_added: March 31, 2018\n",
      "\trelease_year: 2015\n",
      "\trating: TV-Y7\n",
      "\tduration: 1 Season\n",
      "\tlisted_in: Kids' TV, TV Comedies\n",
      "\tdescription: A hungry fox and three resourceful, surprisingly formidable birds turn the animal kingdom on its head in this lively animated series.\n"
     ]
    }
   ],
   "source": [
    "# Get the search results DataFrame\n",
    "df_search = df.loc[search_results_indexes]\n",
    "\n",
    "# Print the search results\n",
    "print(\"Search Results:\")\n",
    "for i, row in enumerate(df_search.iterrows(), 1):\n",
    "    print(f\"\\nResult {i}:\")\n",
    "    for col, value in row[1].items():\n",
    "        print(f\"\\t{col}: {value}\")"
   ]
  }
 ],
 "metadata": {
  "kernelspec": {
   "display_name": "Python 3 (ipykernel)",
   "language": "python",
   "name": "python3"
  },
  "language_info": {
   "codemirror_mode": {
    "name": "ipython",
    "version": 3
   },
   "file_extension": ".py",
   "mimetype": "text/x-python",
   "name": "python",
   "nbconvert_exporter": "python",
   "pygments_lexer": "ipython3",
   "version": "3.10.9"
  }
 },
 "nbformat": 4,
 "nbformat_minor": 5
}
