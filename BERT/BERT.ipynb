{
 "cells": [
  {
   "cell_type": "code",
   "execution_count": 1,
   "id": "73f8dbc8",
   "metadata": {},
   "outputs": [
    {
     "name": "stdout",
     "output_type": "stream",
     "text": [
      "Requirement already satisfied: transformers in c:\\users\\dell\\appdata\\local\\programs\\python\\python310\\lib\\site-packages (4.31.0)\n",
      "Requirement already satisfied: nltk in c:\\users\\dell\\appdata\\local\\programs\\python\\python310\\lib\\site-packages (3.8.1)\n",
      "Requirement already satisfied: huggingface-hub<1.0,>=0.14.1 in c:\\users\\dell\\appdata\\local\\programs\\python\\python310\\lib\\site-packages (from transformers) (0.16.4)\n",
      "Requirement already satisfied: tokenizers!=0.11.3,<0.14,>=0.11.1 in c:\\users\\dell\\appdata\\local\\programs\\python\\python310\\lib\\site-packages (from transformers) (0.13.3)\n",
      "Requirement already satisfied: pyyaml>=5.1 in c:\\users\\dell\\appdata\\local\\programs\\python\\python310\\lib\\site-packages (from transformers) (6.0.1)\n",
      "Requirement already satisfied: numpy>=1.17 in c:\\users\\dell\\appdata\\local\\programs\\python\\python310\\lib\\site-packages (from transformers) (1.24.3)\n",
      "Requirement already satisfied: packaging>=20.0 in c:\\users\\dell\\appdata\\local\\programs\\python\\python310\\lib\\site-packages (from transformers) (23.1)\n",
      "Requirement already satisfied: requests in c:\\users\\dell\\appdata\\local\\programs\\python\\python310\\lib\\site-packages (from transformers) (2.31.0)\n",
      "Requirement already satisfied: safetensors>=0.3.1 in c:\\users\\dell\\appdata\\local\\programs\\python\\python310\\lib\\site-packages (from transformers) (0.3.1)\n",
      "Requirement already satisfied: filelock in c:\\users\\dell\\appdata\\local\\programs\\python\\python310\\lib\\site-packages (from transformers) (3.12.2)\n",
      "Requirement already satisfied: tqdm>=4.27 in c:\\users\\dell\\appdata\\local\\programs\\python\\python310\\lib\\site-packages (from transformers) (4.65.0)\n",
      "Requirement already satisfied: regex!=2019.12.17 in c:\\users\\dell\\appdata\\local\\programs\\python\\python310\\lib\\site-packages (from transformers) (2023.6.3)\n",
      "Requirement already satisfied: click in c:\\users\\dell\\appdata\\local\\programs\\python\\python310\\lib\\site-packages (from nltk) (8.1.6)\n",
      "Requirement already satisfied: joblib in c:\\users\\dell\\appdata\\local\\programs\\python\\python310\\lib\\site-packages (from nltk) (1.3.1)\n",
      "Requirement already satisfied: fsspec in c:\\users\\dell\\appdata\\local\\programs\\python\\python310\\lib\\site-packages (from huggingface-hub<1.0,>=0.14.1->transformers) (2023.6.0)\n",
      "Requirement already satisfied: typing-extensions>=3.7.4.3 in c:\\users\\dell\\appdata\\local\\programs\\python\\python310\\lib\\site-packages (from huggingface-hub<1.0,>=0.14.1->transformers) (4.5.0)\n",
      "Requirement already satisfied: colorama in c:\\users\\dell\\appdata\\local\\programs\\python\\python310\\lib\\site-packages (from tqdm>=4.27->transformers) (0.4.6)\n",
      "Requirement already satisfied: urllib3<3,>=1.21.1 in c:\\users\\dell\\appdata\\local\\programs\\python\\python310\\lib\\site-packages (from requests->transformers) (1.26.16)\n",
      "Requirement already satisfied: certifi>=2017.4.17 in c:\\users\\dell\\appdata\\local\\programs\\python\\python310\\lib\\site-packages (from requests->transformers) (2023.7.22)\n",
      "Requirement already satisfied: idna<4,>=2.5 in c:\\users\\dell\\appdata\\local\\programs\\python\\python310\\lib\\site-packages (from requests->transformers) (3.4)\n",
      "Requirement already satisfied: charset-normalizer<4,>=2 in c:\\users\\dell\\appdata\\local\\programs\\python\\python310\\lib\\site-packages (from requests->transformers) (3.2.0)\n"
     ]
    },
    {
     "name": "stderr",
     "output_type": "stream",
     "text": [
      "WARNING: You are using pip version 21.2.4; however, version 23.2.1 is available.\n",
      "You should consider upgrading via the 'C:\\Users\\dell\\AppData\\Local\\Programs\\Python\\Python310\\python.exe -m pip install --upgrade pip' command.\n"
     ]
    }
   ],
   "source": [
    "# Install required packages\n",
    "!pip install transformers nltk"
   ]
  },
  {
   "cell_type": "code",
   "execution_count": 2,
   "id": "40a52927",
   "metadata": {},
   "outputs": [
    {
     "name": "stderr",
     "output_type": "stream",
     "text": [
      "[nltk_data] Downloading package punkt to\n",
      "[nltk_data]     C:\\Users\\dell\\AppData\\Roaming\\nltk_data...\n",
      "[nltk_data]   Package punkt is already up-to-date!\n",
      "[nltk_data] Downloading package stopwords to\n",
      "[nltk_data]     C:\\Users\\dell\\AppData\\Roaming\\nltk_data...\n",
      "[nltk_data]   Package stopwords is already up-to-date!\n"
     ]
    },
    {
     "data": {
      "text/plain": [
       "True"
      ]
     },
     "execution_count": 2,
     "metadata": {},
     "output_type": "execute_result"
    }
   ],
   "source": [
    "import pandas as pd\n",
    "import numpy as np\n",
    "import torch\n",
    "from transformers import BertTokenizer, BertModel\n",
    "from scipy.spatial.distance import cdist\n",
    "from tqdm import tqdm\n",
    "import nltk\n",
    "from nltk.tokenize import word_tokenize\n",
    "from nltk.corpus import stopwords\n",
    "from nltk.stem import SnowballStemmer\n",
    "nltk.download('punkt')\n",
    "nltk.download('stopwords')"
   ]
  },
  {
   "cell_type": "code",
   "execution_count": 3,
   "id": "2c2dfb55",
   "metadata": {},
   "outputs": [],
   "source": [
    "# Load the dataset from CSV\n",
    "csv_path = '../netflix_titles.csv'\n",
    "df = pd.read_csv(csv_path)"
   ]
  },
  {
   "cell_type": "code",
   "execution_count": 8,
   "id": "7b83d207",
   "metadata": {},
   "outputs": [
    {
     "data": {
      "text/html": [
       "<div>\n",
       "<style scoped>\n",
       "    .dataframe tbody tr th:only-of-type {\n",
       "        vertical-align: middle;\n",
       "    }\n",
       "\n",
       "    .dataframe tbody tr th {\n",
       "        vertical-align: top;\n",
       "    }\n",
       "\n",
       "    .dataframe thead th {\n",
       "        text-align: right;\n",
       "    }\n",
       "</style>\n",
       "<table border=\"1\" class=\"dataframe\">\n",
       "  <thead>\n",
       "    <tr style=\"text-align: right;\">\n",
       "      <th></th>\n",
       "      <th>show_id</th>\n",
       "      <th>type</th>\n",
       "      <th>title</th>\n",
       "      <th>director</th>\n",
       "      <th>cast</th>\n",
       "      <th>country</th>\n",
       "      <th>date_added</th>\n",
       "      <th>release_year</th>\n",
       "      <th>rating</th>\n",
       "      <th>duration</th>\n",
       "      <th>listed_in</th>\n",
       "      <th>description</th>\n",
       "    </tr>\n",
       "  </thead>\n",
       "  <tbody>\n",
       "    <tr>\n",
       "      <th>0</th>\n",
       "      <td>s1</td>\n",
       "      <td>Movie</td>\n",
       "      <td>Dick Johnson Is Dead</td>\n",
       "      <td>Kirsten Johnson</td>\n",
       "      <td>NaN</td>\n",
       "      <td>United States</td>\n",
       "      <td>September 25, 2021</td>\n",
       "      <td>2020</td>\n",
       "      <td>PG-13</td>\n",
       "      <td>90 min</td>\n",
       "      <td>Documentaries</td>\n",
       "      <td>As her father nears the end of his life, filmm...</td>\n",
       "    </tr>\n",
       "  </tbody>\n",
       "</table>\n",
       "</div>"
      ],
      "text/plain": [
       "  show_id   type                 title         director cast        country  \\\n",
       "0      s1  Movie  Dick Johnson Is Dead  Kirsten Johnson  NaN  United States   \n",
       "\n",
       "           date_added  release_year rating duration      listed_in  \\\n",
       "0  September 25, 2021          2020  PG-13   90 min  Documentaries   \n",
       "\n",
       "                                         description  \n",
       "0  As her father nears the end of his life, filmm...  "
      ]
     },
     "execution_count": 8,
     "metadata": {},
     "output_type": "execute_result"
    }
   ],
   "source": [
    "df.head(1)"
   ]
  },
  {
   "cell_type": "code",
   "execution_count": 9,
   "id": "d9ea64a4",
   "metadata": {},
   "outputs": [],
   "source": [
    "def preprocess_data(df):\n",
    "    # Drop duplicates, if any\n",
    "    df = df.drop_duplicates()\n",
    "\n",
    "    # Handling missing values\n",
    "    # For numeric columns, fill missing values with median\n",
    "    numeric_cols = df.select_dtypes(include='number').columns\n",
    "    for col in numeric_cols:\n",
    "        df[col].fillna(df[col].median(), inplace=True)\n",
    "\n",
    "    # For categorical columns, fill missing values with most frequent value\n",
    "    categorical_cols = df.select_dtypes(include='object').columns\n",
    "    for col in categorical_cols:\n",
    "        df[col].fillna(df[col].mode()[0], inplace=True)\n",
    "\n",
    "    # Convert all text data to lowercase\n",
    "    df = df.applymap(lambda x: x.lower() if isinstance(x, str) else '')\n",
    "\n",
    "    # Prepare NLTK for English Language Preprocessing\n",
    "    eng_stopwords = set(stopwords.words('english'))  # Set of English stopwords\n",
    "    stemmer = SnowballStemmer('english')  # Snowball Stemmer for English language\n",
    "\n",
    "    # Preprocess text in categorical columns using NLTK\n",
    "    for col in categorical_cols:\n",
    "        if df[col].dtype == 'object':\n",
    "            df[col] = df[col].apply(lambda x: ' '.join([stemmer.stem(word) for word in word_tokenize(x) if word.lower() not in eng_stopwords]))\n",
    "            \n",
    "    return df\n",
    "\n",
    "\n",
    "df_movies = preprocess_data(df)"
   ]
  },
  {
   "cell_type": "code",
   "execution_count": 10,
   "id": "33b028b6",
   "metadata": {},
   "outputs": [
    {
     "data": {
      "text/html": [
       "<div>\n",
       "<style scoped>\n",
       "    .dataframe tbody tr th:only-of-type {\n",
       "        vertical-align: middle;\n",
       "    }\n",
       "\n",
       "    .dataframe tbody tr th {\n",
       "        vertical-align: top;\n",
       "    }\n",
       "\n",
       "    .dataframe thead th {\n",
       "        text-align: right;\n",
       "    }\n",
       "</style>\n",
       "<table border=\"1\" class=\"dataframe\">\n",
       "  <thead>\n",
       "    <tr style=\"text-align: right;\">\n",
       "      <th></th>\n",
       "      <th>show_id</th>\n",
       "      <th>type</th>\n",
       "      <th>title</th>\n",
       "      <th>director</th>\n",
       "      <th>cast</th>\n",
       "      <th>country</th>\n",
       "      <th>date_added</th>\n",
       "      <th>release_year</th>\n",
       "      <th>rating</th>\n",
       "      <th>duration</th>\n",
       "      <th>listed_in</th>\n",
       "      <th>description</th>\n",
       "    </tr>\n",
       "  </thead>\n",
       "  <tbody>\n",
       "    <tr>\n",
       "      <th>0</th>\n",
       "      <td>s1</td>\n",
       "      <td>movi</td>\n",
       "      <td>dick johnson dead</td>\n",
       "      <td>kirsten johnson</td>\n",
       "      <td>david attenborough</td>\n",
       "      <td>unit state</td>\n",
       "      <td>septemb 25 , 2021</td>\n",
       "      <td></td>\n",
       "      <td>pg-13</td>\n",
       "      <td>90 min</td>\n",
       "      <td>documentari</td>\n",
       "      <td>father near end life , filmmak kirsten johnson...</td>\n",
       "    </tr>\n",
       "  </tbody>\n",
       "</table>\n",
       "</div>"
      ],
      "text/plain": [
       "  show_id  type              title         director                cast  \\\n",
       "0      s1  movi  dick johnson dead  kirsten johnson  david attenborough   \n",
       "\n",
       "      country         date_added release_year rating duration    listed_in  \\\n",
       "0  unit state  septemb 25 , 2021               pg-13   90 min  documentari   \n",
       "\n",
       "                                         description  \n",
       "0  father near end life , filmmak kirsten johnson...  "
      ]
     },
     "execution_count": 10,
     "metadata": {},
     "output_type": "execute_result"
    }
   ],
   "source": [
    "df_movies.head(1)"
   ]
  },
  {
   "cell_type": "code",
   "execution_count": 11,
   "id": "b36c17d5",
   "metadata": {},
   "outputs": [],
   "source": [
    "def preprocess_query(input_string):\n",
    "    # Convert the input string to lowercase\n",
    "    input_string = input_string.lower()\n",
    "\n",
    "    # Prepare NLTK for English Language Preprocessing\n",
    "    eng_stopwords = set(stopwords.words('english'))  # Set of English stopwords\n",
    "    stemmer = SnowballStemmer('english')  # Snowball Stemmer for Englsih language\n",
    "\n",
    "    # Tokenize the input string\n",
    "    words = word_tokenize(input_string)\n",
    "\n",
    "    # Remove English stopwords and apply stemming\n",
    "    preprocessed_words = [stemmer.stem(word) for word in words if word.lower() not in eng_stopwords]\n",
    "\n",
    "    # Combine the preprocessed words into a single string\n",
    "    preprocessed_string = ' '.join(preprocessed_words)\n",
    "\n",
    "    return preprocessed_string"
   ]
  },
  {
   "cell_type": "markdown",
   "id": "4effe02b",
   "metadata": {},
   "source": [
    "## Different Models from Transformers library from Hugging Face\n",
    "   1. BERT\n",
    "       https://huggingface.co/docs/transformers/model_doc/bert\n",
    "   2. ALBERT\n",
    "       https://huggingface.co/docs/transformers/model_doc/albert\n",
    "   3. RoBERTa\n",
    "       https://huggingface.co/docs/transformers/model_doc/roberta\n",
    "   4. XLNet\n",
    "       https://huggingface.co/docs/transformers/model_doc/xlnet"
   ]
  },
  {
   "cell_type": "code",
   "execution_count": 12,
   "id": "b7060bea",
   "metadata": {},
   "outputs": [],
   "source": [
    "# text encoding steps\n",
    "\n",
    "tokenizer = BertTokenizer.from_pretrained('bert-base-uncased')\n",
    "model = BertModel.from_pretrained(\"bert-base-uncased\")"
   ]
  },
  {
   "cell_type": "code",
   "execution_count": 16,
   "id": "0251c0ad",
   "metadata": {},
   "outputs": [
    {
     "name": "stderr",
     "output_type": "stream",
     "text": [
      "100%|████████████████████████████████████████████████████████████████████████████████| 881/881 [00:10<00:00, 85.28it/s]\n"
     ]
    }
   ],
   "source": [
    "# Encode the 'LongDesc' column using BERT\n",
    "plots = list(df_movies['description'])\n",
    "batch_size = 10\n",
    "num_texts = len(plots)\n",
    "encoded_texts = []\n",
    "for i in tqdm(range(0, num_texts, batch_size)):\n",
    "    batch_texts = plots[i:i + batch_size]\n",
    "    # Replace NaN values with an empty string\n",
    "    batch_texts = [text if isinstance(text, str) else \"\" for text in batch_texts]\n",
    "    encoded_batch = [tokenizer.encode(text, max_length=125, padding='max_length', truncation=True, add_special_tokens=True) for text in batch_texts]\n",
    "    encoded_texts.extend(encoded_batch)"
   ]
  },
  {
   "cell_type": "code",
   "execution_count": 17,
   "id": "3fecf049",
   "metadata": {},
   "outputs": [],
   "source": [
    "input_ids = torch.tensor(encoded_texts)\n",
    "embeddings = []"
   ]
  },
  {
   "cell_type": "code",
   "execution_count": 18,
   "id": "fe411feb",
   "metadata": {},
   "outputs": [
    {
     "name": "stderr",
     "output_type": "stream",
     "text": [
      "100%|██████████████████████████████████████████████████████████████████████████████| 881/881 [2:19:58<00:00,  9.53s/it]\n"
     ]
    }
   ],
   "source": [
    "# Generate embeddings for the query and move it to the device\n",
    "model.eval()\n",
    "with torch.no_grad():\n",
    "    for i in tqdm(range(0, num_texts, batch_size)):\n",
    "        input_batch = input_ids[i:i + batch_size]\n",
    "        outputs = model(input_batch)\n",
    "        batch_embeddings = outputs.last_hidden_state.mean(dim=1)\n",
    "        embeddings.extend(batch_embeddings)"
   ]
  },
  {
   "cell_type": "code",
   "execution_count": 19,
   "id": "dff48746",
   "metadata": {},
   "outputs": [],
   "source": [
    "# Add the encoded embeddings into the DataFrame\n",
    "df_movies['encoded_text'] = embeddings"
   ]
  },
  {
   "cell_type": "code",
   "execution_count": 32,
   "id": "57d28dff",
   "metadata": {},
   "outputs": [],
   "source": [
    "def perform_search(query_text, num_results=5):\n",
    "    query = preprocess_query(query_text)\n",
    "    encoded_input = tokenizer.encode(query, max_length=125, padding='max_length', truncation=True, return_tensors='pt')\n",
    "    output = model(encoded_input)\n",
    "    embedding_query = output.last_hidden_state.mean(dim=1).detach().numpy()\n",
    "\n",
    "    # Convert text embeddings to a numpy array\n",
    "    texts_encoded = list(df_movies['encoded_text'])\n",
    "    text_embeddings = np.array(texts_encoded)\n",
    "\n",
    "    # Convert the 1-dimensional array to a 2-dimensional array\n",
    "    text_embeddings = np.stack(text_embeddings)\n",
    "\n",
    "    similarities = 1 - cdist(text_embeddings, embedding_query, metric='cosine').flatten()\n",
    "    df['similarities'] = similarities\n",
    "    filtered_df = df.nlargest(num_results, 'similarities')\n",
    "\n",
    "    suggestions_dict = {}\n",
    "    for index, row in filtered_df.iterrows():\n",
    "        suggestion_key = f\"Index {index + 1}\"\n",
    "        suggestion_value = {}\n",
    "        for col in df.columns:\n",
    "            if col != 'encoded_text':  # Exclude 'encoded_text' from the suggestions\n",
    "                suggestion_value[col] = row[col]\n",
    "        suggestions_dict[suggestion_key] = suggestion_value\n",
    "\n",
    "    return suggestions_dict"
   ]
  },
  {
   "cell_type": "code",
   "execution_count": 33,
   "id": "2d7f5310",
   "metadata": {},
   "outputs": [
    {
     "name": "stderr",
     "output_type": "stream",
     "text": [
      "C:\\Users\\dell\\AppData\\Local\\Temp\\ipykernel_17252\\517487564.py:9: FutureWarning: The input object of type 'Tensor' is an array-like implementing one of the corresponding protocols (`__array__`, `__array_interface__` or `__array_struct__`); but not a sequence (or 0-D). In the future, this object will be coerced as if it was first converted using `np.array(obj)`. To retain the old behaviour, you have to either modify the type 'Tensor', or assign to an empty array created with `np.empty(correct_shape, dtype=object)`.\n",
      "  text_embeddings = np.array(texts_encoded)\n",
      "C:\\Users\\dell\\AppData\\Local\\Temp\\ipykernel_17252\\517487564.py:9: VisibleDeprecationWarning: Creating an ndarray from ragged nested sequences (which is a list-or-tuple of lists-or-tuples-or ndarrays with different lengths or shapes) is deprecated. If you meant to do this, you must specify 'dtype=object' when creating the ndarray.\n",
      "  text_embeddings = np.array(texts_encoded)\n"
     ]
    }
   ],
   "source": [
    "# Input your search query\n",
    "query = 'fluffy animal'\n",
    "k = 3  # Number of suggestions to retrieve\n",
    "\n",
    "# Perform the search and get suggestions\n",
    "suggestions = perform_search(query, k)"
   ]
  },
  {
   "cell_type": "code",
   "execution_count": 48,
   "id": "c5d823f7",
   "metadata": {},
   "outputs": [
    {
     "name": "stdout",
     "output_type": "stream",
     "text": [
      "\n",
      "Result 1:\n",
      "\tTitle: The Magic School Bus Rides Again Kids In Space\n",
      "\tType: Movie\n",
      "\tRelease Year: 2020\n",
      "\tRating: TV-Y\n",
      "\tDescription: The Magic School Bus kids blast into orbit — and onto the International Space Station — only to find themselves on the run from a giant tardigrade!\n",
      "\tScore: 0.990022973038176\n",
      "________________________________________________________________________________________________________________________\n",
      "\n",
      "Result 2:\n",
      "\tTitle: Super Monsters Monster Pets\n",
      "\tType: TV Show\n",
      "\tRelease Year: 2019\n",
      "\tRating: TV-Y\n",
      "\tDescription: The adorably magical Monster Pets star in a series of short adventures that are big on fun – and full of surprises!\n",
      "\tScore: 0.9899718590349479\n",
      "________________________________________________________________________________________________________________________\n",
      "\n",
      "Result 3:\n",
      "\tTitle: Mighty Express\n",
      "\tType: TV Show\n",
      "\tRelease Year: 2021\n",
      "\tRating: TV-Y\n",
      "\tDescription: Catch a ride with the Mighty Express — a team of trains and their kid friends who overcome trouble on the tracks with quick thinking and teamwork!\n",
      "\tScore: 0.989101755071372\n",
      "________________________________________________________________________________________________________________________\n"
     ]
    }
   ],
   "source": [
    "# Print the suggestions with specific parameters\n",
    "for i, (suggestion_key, suggestion_value) in enumerate(suggestions.items(), 1):\n",
    "    print(f\"\\nResult {i}:\")\n",
    "    print(f\"\\tTitle: {suggestion_value['title']}\")\n",
    "    print(f\"\\tType: {suggestion_value['type']}\")\n",
    "    print(f\"\\tRelease Year: {suggestion_value['release_year']}\")\n",
    "    print(f\"\\tRating: {suggestion_value['rating']}\")\n",
    "    print(f\"\\tDescription: {suggestion_value['description']}\")\n",
    "    print(f\"\\tScore: {suggestion_value['similarities']}\")\n",
    "    print(\"_\"*120)"
   ]
  },
  {
   "cell_type": "code",
   "execution_count": null,
   "id": "64e9d612",
   "metadata": {},
   "outputs": [],
   "source": []
  }
 ],
 "metadata": {
  "kernelspec": {
   "display_name": "Python 3 (ipykernel)",
   "language": "python",
   "name": "python3"
  },
  "language_info": {
   "codemirror_mode": {
    "name": "ipython",
    "version": 3
   },
   "file_extension": ".py",
   "mimetype": "text/x-python",
   "name": "python",
   "nbconvert_exporter": "python",
   "pygments_lexer": "ipython3",
   "version": "3.10.9"
  }
 },
 "nbformat": 4,
 "nbformat_minor": 5
}
